{
  "cells": [
    {
      "cell_type": "code",
      "execution_count": 1,
      "metadata": {
        "id": "h-hGbsNOkxpv"
      },
      "outputs": [],
      "source": [
        "import matplotlib.pyplot as plt\n",
        "import math\n",
        "import numpy as np\n",
        "from timeit import default_timer\n",
        "import numba\n",
        "from numba import jit, cuda, vectorize, guvectorize\n",
        "from numba import void, uint8 , uint32, uint64, int32, int64, float32, float64, f8"
      ]
    },
    {
      "cell_type": "markdown",
      "metadata": {
        "id": "AHttube9kDGm"
      },
      "source": [
        "# Esercizi\n",
        "\n",
        "1. Scrivi un kernel che, dati due vettori x,y calcoli il vettore z definito come\n",
        "    $$ z[i] = x[i]^2\\cos(y[i])$$\n",
        "    Fai in confronto con Numpy, con la stessa funzione scritta in puro Python e con vectorize. Cosa puoi dire delle tempistiche?\n",
        "    Qual è lo speed-up oppetuto rispetto a queste due implementazioni?\n",
        "\n",
        "3. Completare esercizio sulla regione di stabilità della settimana 2."
      ]
    },
    {
      "cell_type": "markdown",
      "metadata": {
        "id": "FN3MPCXKYfP8"
      },
      "source": [
        "### 1."
      ]
    },
    {
      "cell_type": "code",
      "execution_count": 2,
      "metadata": {
        "id": "SJfGOWL5bASW"
      },
      "outputs": [],
      "source": [
        "# Versione CPU\n",
        "@numba.vectorize(['float32(float32, float32)',\n",
        "                  'float64(float64, float64)'], target='cpu')\n",
        "def sqcos_cpu(x, y):\n",
        "    return x**2 * math.cos(y)\n",
        "\n",
        "# Versione CUDA\n",
        "@numba.vectorize(['float32(float32, float32)',\n",
        "                     'float64(float64, float64)'], target='cuda')\n",
        "def sqcos_cuda(x, y):\n",
        "    return x**2 * math.cos(y)\n",
        "\n",
        "# Versione Numpy\n",
        "def sqcos_np(x,y):\n",
        "  return x**2 * np.cos(y)\n",
        "\n",
        "# Versione CUDA kernel\n",
        "@cuda.jit\n",
        "def sqcos_ker(x, y, z):\n",
        "    tx = cuda.threadIdx.x # indice del thread nel blocco\n",
        "    bx = cuda.blockIdx.x  # indice del blocco nella griglia\n",
        "    bw = cuda.blockDim.x  # numero di threads per blocco\n",
        "    i = tx + bx * bw # indice del thread nella griglia\n",
        "\n",
        "    if i < z.size:\n",
        "        z[i] = x[i]**2 * math.cos(y[i])\n",
        "    #endif\n",
        "    return"
      ]
    },
    {
      "cell_type": "code",
      "execution_count": 3,
      "metadata": {
        "id": "gisJl7oRYpiL"
      },
      "outputs": [],
      "source": [
        "# Generazione dei dati\n",
        "n = 1000000\n",
        "x = np.linspace(10, 10, n)\n",
        "y = np.linspace(0, 2*np.pi, n)\n",
        "z = np.empty_like(x)\n",
        "\n",
        "threads_per_block = 128\n",
        "blocks_per_grid= int(math.ceil(float(n) / threads_per_block))"
      ]
    },
    {
      "cell_type": "code",
      "execution_count": 4,
      "metadata": {
        "colab": {
          "base_uri": "https://localhost:8080/"
        },
        "id": "91PdlOyKZ6dj",
        "outputId": "ce5340a1-fd64-47ba-c753-20bdbf778dec"
      },
      "outputs": [
        {
          "name": "stdout",
          "output_type": "stream",
          "text": [
            "speed-up di CPU vectorize vs Numpy =  1.0688382646211005\n",
            "speed-up di GPU vectorize vs Numpy =  0.09660714154343676\n",
            "speed-up di Kernel vs Numpy =  0.33954461038762235\n"
          ]
        },
        {
          "name": "stderr",
          "output_type": "stream",
          "text": [
            "/usr/local/lib/python3.10/dist-packages/numba/cuda/cudadrv/devicearray.py:885: NumbaPerformanceWarning: Host array used in CUDA kernel will incur copy overhead to/from device.\n",
            "  warn(NumbaPerformanceWarning(msg))\n"
          ]
        }
      ],
      "source": [
        "# Speed-up\n",
        "# np\n",
        "t_i = default_timer()\n",
        "sqcos_np(x, y)\n",
        "t_f = default_timer()\n",
        "np_time = t_f -t_i\n",
        "# cpu\n",
        "t_i = default_timer()\n",
        "sqcos_cpu(x, y)\n",
        "t_f = default_timer()\n",
        "cpu_time = t_f -t_i\n",
        "# gpu\n",
        "t_i = default_timer()\n",
        "sqcos_cuda(x, y)\n",
        "t_f = default_timer()\n",
        "cuda_time = t_f -t_i\n",
        "# ker\n",
        "t_i = default_timer()\n",
        "sqcos_ker[blocks_per_grid, threads_per_block](x, y, z)\n",
        "t_f = default_timer()\n",
        "ker_time = t_f -t_i\n",
        "\n",
        "print('speed-up di CPU vectorize vs Numpy = ', np_time/cpu_time )\n",
        "print('speed-up di GPU vectorize vs Numpy = ', np_time/cuda_time )\n",
        "print('speed-up di Kernel vs Numpy = ', np_time/ker_time )"
      ]
    }
  ],
  "metadata": {
    "accelerator": "GPU",
    "colab": {
      "gpuType": "T4",
      "provenance": []
    },
    "kernelspec": {
      "display_name": "Python 3",
      "name": "python3"
    },
    "language_info": {
      "codemirror_mode": {
        "name": "ipython",
        "version": 3
      },
      "file_extension": ".py",
      "mimetype": "text/x-python",
      "name": "python",
      "nbconvert_exporter": "python",
      "pygments_lexer": "ipython3",
      "version": "3.5.2"
    }
  },
  "nbformat": 4,
  "nbformat_minor": 0
}
