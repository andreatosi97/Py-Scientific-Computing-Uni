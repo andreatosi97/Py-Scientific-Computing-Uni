{
 "cells": [
  {
   "cell_type": "code",
   "execution_count": 19,
   "metadata": {},
   "outputs": [],
   "source": [
    "# import Librerie\n",
    "import numpy as np\n",
    "from scipy import optimize\n",
    "import matplotlib.pyplot as plt"
   ]
  },
  {
   "cell_type": "markdown",
   "metadata": {},
   "source": [
    "# ESERCIZIO 1\n",
    "Calcolare la regione di Assoluta Stabilità per il metodo di Heun di cui ricordiamo lo schema:\n",
    "\n",
    "$$ u_{n+1} = u_n + \\frac{h}{2} \\left[ f(t_n,u_n) + f(t_{n+1}, u_n + h f(t_n,u_n)) \\right]$$\n",
    "\n",
    "La funzione $R$ di assoluta stabilità di questo metodo è\n",
    "\n",
    "$$R(z) = 1 + z + \\frac{z^2}{2}$$"
   ]
  },
  {
   "cell_type": "code",
   "execution_count": 20,
   "metadata": {},
   "outputs": [
    {
     "data": {
      "image/png": "[encoded data removed]",
      "text/plain": [
       "<Figure size 300x300 with 1 Axes>"
      ]
     },
     "metadata": {},
     "output_type": "display_data"
    }
   ],
   "source": [
    "def calcola_Rabs(z, metodo):\n",
    "    if metodo=='EE':\n",
    "        Rabs = abs(1+z) #EE \n",
    "    elif metodo=='EI':\n",
    "        Rabs = abs(1./(1.-z));  #EI\n",
    "    elif metodo=='TR':\n",
    "        Rabs = abs((2+z)/(2-z)) #TR\n",
    "    elif metodo=='HE':\n",
    "        Rabs = abs(1 + z + z**2/2)\n",
    "    else:\n",
    "        print('errore nella scelta del metodo')\n",
    "\n",
    "    if Rabs >1:\n",
    "        return 1\n",
    "    else:   # regione di stabilita'\n",
    "        return -1\n",
    "\n",
    "\n",
    "def regione_stabilita(xmin,xmax,ymin,ymax,img_width,img_height, metodo):\n",
    "    # funzione che ha come output l'array 2-dimensionale contenente i valori di \n",
    "    # R(z) sui nodi della griglia con estremi  xmin,xmax,ymin,ymax  \n",
    "    # e con \"img_width punti\" lungo il primo asse, \"img_height\" lungo il secondo\n",
    "    x = np.linspace(xmin, xmax, img_width)\n",
    "    y = np.linspace(ymin, ymax, img_height)\n",
    "    img = np.empty((img_width,img_height))\n",
    "    \n",
    "    for pos_x in range(img_width) :\n",
    "        for pos_y in range(img_height) :\n",
    "            z = x[pos_x] + 1j*y[pos_y]\n",
    "            img[pos_x,pos_y] = calcola_Rabs(z, metodo);\n",
    "        #endfor\n",
    "    #endfor\n",
    "    return img\n",
    "\n",
    "\n",
    "def R_image(img, xmin, xmax, ymin, ymax,metodo):\n",
    "    # funzione che fa il grafico della regione di stabilita' per il metodo scelto\n",
    "    dpi = 72\n",
    "    width  = img.shape[0] / dpi \n",
    "    height = img.shape[1] / dpi\n",
    "    \n",
    "    fig, ax = plt.subplots(figsize=(width, height), dpi = 72)\n",
    "    ax.imshow(img.T, extent=[xmin, xmax, ymin, ymax])\n",
    "    plt.xlabel(\"Re(h $\\lambda$)\")\n",
    "    plt.ylabel(\"Im(h $\\lambda$)\")\n",
    "    plt.title(\"Regione di stabilita' del metodo %s in blu\" %metodo)\n",
    "    return\n",
    "\n",
    "\n",
    "maxval = 3.\n",
    "xmin = -maxval\n",
    "xmax = maxval\n",
    "ymin = -maxval\n",
    "ymax = maxval\n",
    "img_width = 300\n",
    "img_height = 300\n",
    "\n",
    "for metodo in ['HE']:  # in ['EE','EI','TR']:\n",
    "    img_stab = regione_stabilita(xmin,xmax,ymin,ymax,img_width,img_height, metodo);\n",
    "    R_image(img_stab, xmin, xmax, ymin, ymax, metodo)\n",
    "#end"
   ]
  },
  {
   "cell_type": "markdown",
   "metadata": {},
   "source": [
    "# Esercizio 2\n",
    "### Vediamo un altro approccio fare il grafico della Regione di Stabilità del metodo di Eulero Esplicito:\n",
    "\n",
    "\n",
    "Nel caso di Eulero Esplicito abbiamo visto che \n",
    "$$ R(z) = (1+z)$$ \n",
    "\n",
    "Per fare il grafico della regione  \n",
    "$$|R(z)|<1$$\n",
    "risolviamo l'equazione associata \n",
    "$$|R(z)|=1$$\n",
    "in modo da disegnare il bordo che separa le due regioni.\n",
    "<br>\n",
    "\n",
    "Per fare questo dividiamo il cerchio unitario in $N$ punti e risolviamo le corrispondenti $N$ equazioni non lineari (utilizzando ad esempio `scipy.optimize.newton`):\n",
    "<br>\n",
    "\n",
    "$$R(z_k)= e^{i\\, \\theta_k} \\quad \\text{ per } \\, k=1,\\dots, N$$\n",
    "dove $\\theta_k = 2 \\pi  \\frac{k}{N} $.\n",
    "\n",
    "I punti $z_k$ per $ k=1,\\dots, N$ descriveranno il bordo della regione di assoluta stabilità.\n",
    "\n",
    "<br>\n",
    "\n",
    "Completare il codice sottostante."
   ]
  },
  {
   "cell_type": "code",
   "execution_count": 21,
   "metadata": {},
   "outputs": [],
   "source": [
    "# import Librerie\n",
    "import numpy as np\n",
    "from scipy import optimize\n",
    "import matplotlib.pyplot as plt"
   ]
  },
  {
   "cell_type": "code",
   "execution_count": 22,
   "metadata": {},
   "outputs": [
    {
     "name": "stderr",
     "output_type": "stream",
     "text": [
      "C:\\Users\\Andrea\\AppData\\Local\\Temp\\ipykernel_25860\\2293872753.py:9: DeprecationWarning: `np.complex` is a deprecated alias for the builtin `complex`. To silence this warning, use `complex` by itself. Doing this will not modify any behavior and is safe. If you specifically wanted the numpy scalar type, use `np.complex128` here.\n",
      "Deprecated in NumPy 1.20; for more details and guidance: https://numpy.org/devdocs/release/1.20.0-notes.html#deprecations\n",
      "  z = np.zeros((N), dtype=np.complex)   # nota: è importante definire il tipo di z come complesso\n"
     ]
    }
   ],
   "source": [
    "# Regione di stabilità per Eulero Esplicito\n",
    "R=lambda z: (1.+z)\n",
    "dR=lambda z: 1.\n",
    "\n",
    "\n",
    "# Scegliere il numero N di angoli da considerare\n",
    "N = 150\n",
    "\n",
    "z = np.zeros((N), dtype=np.complex)   # nota: è importante definire il tipo di z come complesso\n",
    "z[0]=0.\n",
    "theta=np.arange(0,2*np.pi,2*np.pi/N)\n",
    "\n",
    "for k in range(1,N):\n",
    "    '''\n",
    "    Risolvere l'equazione per ogni valore dell'angolo theta e salvarla nell'indice corrente dell'array complesso z.\n",
    "    Come punto iniziale per il metodo di newton considerare ad esempio il punto z_{k-1} precedente\n",
    "    '''\n",
    "    z[k] = optimize.newton( lambda zeta : 1 + zeta - np.e**(1j*theta[k]), theta[k] )\n",
    "#end for\n"
   ]
  },
  {
   "cell_type": "code",
   "execution_count": 23,
   "metadata": {},
   "outputs": [
    {
     "data": {
      "text/plain": [
       "Text(0.5, 1.0, \"Regione di stabilita' in blu\")"
      ]
     },
     "execution_count": 23,
     "metadata": {},
     "output_type": "execute_result"
    },
    {
     "data": {
      "image/png": "[encoded data removed]",
      "text/plain": [
       "<Figure size 500x500 with 1 Axes>"
      ]
     },
     "metadata": {},
     "output_type": "display_data"
    }
   ],
   "source": [
    "# GRAFICO: fare il grafico con parte reale di z_EE (np.real(z_EE)) e parte immaginaria di z_EE (np.imag(z_EE)) sugli assi x e y rispettivamente\n",
    "plt.figure(figsize=(5, 5))\n",
    "plt.xlim(-3, 3);\n",
    "plt.ylim(-3,3);\n",
    "plt.fill(np.real(z), np.imag(z))\n",
    "plt.xlabel(\"Re(h $\\lambda$)\")\n",
    "plt.ylabel(\"Im(h $\\lambda$)\")\n",
    "plt.title(\"Regione di stabilita' in blu\")"
   ]
  },
  {
   "cell_type": "markdown",
   "metadata": {},
   "source": [
    "# Esercizio 3\n",
    "Nella terza settimana del corso vederete come scrivere codice in parallelo utilizzando `numba` in modo da velocizzare le performance.\n",
    "\n",
    "Dopo aver visto tale parte potrete quindi riscrivere in parallelo il codice per il calcolo della regione di stabilità, visto nel notebook precedente (non quello dell'esercizio soprastante).\n"
   ]
  },
  {
   "cell_type": "code",
   "execution_count": null,
   "metadata": {},
   "outputs": [],
   "source": []
  }
 ],
 "metadata": {
  "kernelspec": {
   "display_name": "Python 3",
   "language": "python",
   "name": "python3"
  },
  "language_info": {
   "codemirror_mode": {
    "name": "ipython",
    "version": 3
   },
   "file_extension": ".py",
   "mimetype": "text/x-python",
   "name": "python",
   "nbconvert_exporter": "python",
   "pygments_lexer": "ipython3",
   "version": "3.11.3"
  }
 },
 "nbformat": 4,
 "nbformat_minor": 2
}
