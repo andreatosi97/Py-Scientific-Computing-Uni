{
 "cells": [
  {
   "cell_type": "markdown",
   "metadata": {},
   "source": [
    "# Esercizi - Alte prestazioni nel calcolo matriciale"
   ]
  },
  {
   "cell_type": "code",
   "execution_count": 2,
   "metadata": {
    "collapsed": true
   },
   "outputs": [],
   "source": [
    "import numpy as np\n",
    "import matplotlib.pyplot as plt\n",
    "\n",
    "import time\n",
    "from timeit import timeit, default_timer\n",
    "\n",
    "from numba import jit"
   ]
  },
  {
   "cell_type": "markdown",
   "metadata": {
    "collapsed": true
   },
   "source": [
    "## Esperimento: verifichiamo che gli accessi per colonne o per righe di una matrice nxn hanno tempi di calcolo molto differenti"
   ]
  },
  {
   "cell_type": "code",
   "execution_count": 3,
   "metadata": {
    "collapsed": false
   },
   "outputs": [],
   "source": [
    "@jit(nopython=True)\n",
    "def accesso_per_righe(A,B):\n",
    "    n = A.shape[0]\n",
    "    C = np.zeros((n,n))\n",
    "    for i in range(n):\n",
    "        for j in range(n):\n",
    "                C[i,j] = A[i,j] * B[i,j] \n",
    "        #endfor\n",
    "    #endfor\n",
    "    return"
   ]
  },
  {
   "cell_type": "code",
   "execution_count": 4,
   "metadata": {
    "collapsed": true
   },
   "outputs": [],
   "source": [
    "@jit(nopython=True)\n",
    "def accesso_per_colonne(A,B):\n",
    "    n = A.shape[0]\n",
    "    C = np.zeros((n,n))\n",
    "    for j in range(n):\n",
    "        for i in range(n):\n",
    "                C[i,j] = A[i,j] * B[i,j] \n",
    "        #endfor\n",
    "    #endfor\n",
    "    return"
   ]
  },
  {
   "cell_type": "code",
   "execution_count": 5,
   "metadata": {
    "collapsed": false
   },
   "outputs": [
    {
     "name": "stdout",
     "output_type": "stream",
     "text": [
      "Tempo di esecuzione accesso_per_righe  =  1.5655141999886837 s\n",
      "Tempo di esecuzione accesso_per_colonne  =  7.669670399976894 s\n"
     ]
    }
   ],
   "source": [
    "n = 10000\n",
    "A = np.random.rand(n,n)\n",
    "B = np.random.rand(n,n)\n",
    "\n",
    "# eseguiamo la routine \"accesso_per_righe()\" precedentemente compilata con Numba: \n",
    "t_i = default_timer()\n",
    "accesso_per_righe(A,B)\n",
    "t_f = default_timer()\n",
    "print(\"Tempo di esecuzione accesso_per_righe  = \", t_f - t_i, \"s\")\n",
    "\n",
    "# eseguiamo la routine \"accesso_per_colonne()\" precedentemente compilata con Numba: \n",
    "t_i = default_timer()\n",
    "accesso_per_colonne(A,B)\n",
    "t_f = default_timer()\n",
    "print(\"Tempo di esecuzione accesso_per_colonne  = \", t_f - t_i, \"s\")"
   ]
  },
  {
   "cell_type": "markdown",
   "metadata": {},
   "source": [
    "## Esercizio: scelta della dimensione ottimale dei blocchi\n",
    "Utilizzando la routine \"LEVEL3_gemm\" del notebook usato nel video, data una dimensione n=10000 delle matrici nxn, calcolare i tempi del prodotto di matrici per vari Nq e determinare il numero di blocchi ottimale per il proprio PC. Attenzione: i tempi di esecuzione potrebbero arrivare ad alcuni minuti."
   ]
  },
  {
   "cell_type": "code",
   "execution_count": 6,
   "metadata": {},
   "outputs": [],
   "source": [
    "@jit(nopython=True)\n",
    "def LEVEL3_gemm(A,B,C,Nq):\n",
    "    # prodotto di matrici con operazioni BLAS 3:\n",
    "    n = A.shape[0]\n",
    "    dimb = n / Nq\n",
    "    for i in range(Nq):\n",
    "        for j in range(Nq):\n",
    "            for k in range(Nq):\n",
    "                C[i*dimb:(i+1)*dimb,j*dimb:(j+1)*dimb] += \\\n",
    "                      A[i*dimb:(i+1)*dimb,k*dimb:(k+1)*dimb] @ \\\n",
    "                      B[k*dimb:(k+1)*dimb,j*dimb:(j+1)*dimb]  # prodotto di matrici (BLAS 3)\n",
    "            #endfor\n",
    "        #endfor\n",
    "    #endfor\n",
    "    return"
   ]
  },
  {
   "cell_type": "code",
   "execution_count": 9,
   "metadata": {
    "collapsed": true
   },
   "outputs": [
    {
     "name": "stdout",
     "output_type": "stream",
     "text": [
      "Per Nq =  2  si ha t =  27.82970440000645  s\n",
      "Per Nq =  5  si ha t =  31.538541800022358  s\n",
      "Per Nq =  8  si ha t =  51.86062989998027  s\n",
      "Per Nq =  10  si ha t =  35.59542340002372  s\n",
      "Per Nq =  25  si ha t =  105.7387097000028  s\n",
      "Per Nq =  50  si ha t =  123.63198430000921  s\n",
      "Per Nq =  100  si ha t =  150.87036319999606  s\n",
      "Per Nq =  200  si ha t =  264.94002740000724  s\n"
     ]
    },
    {
     "data": {
      "image/png": "[encoded data removed]",
      "text/plain": [
       "<Figure size 640x480 with 1 Axes>"
      ]
     },
     "metadata": {},
     "output_type": "display_data"
    }
   ],
   "source": [
    "n = 10000\n",
    "A = np.random.rand(n,n)\n",
    "B = np.random.rand(n,n)\n",
    "# consideriamo numeri non troppo grandi poichè altrimenti prenderemo un numero\n",
    "# alto di blocchi che renderebbe inefficiente l'algoritmo\n",
    "test = [2,5,8,10,25,50,100,200]\n",
    "tempi = np.zeros(len(test))\n",
    "\n",
    "for i in range(len(test)): \n",
    "    Nq = test[i]\n",
    "    C = np.zeros((n,n))\n",
    "    t_i = default_timer()\n",
    "    LEVEL3_gemm(A,B,C,Nq)\n",
    "    t_f = default_timer()\n",
    "    tempi[i] = t_f - t_i\n",
    "    print(\"Per Nq = \", Nq,\" si ha t = \", tempi[i],\" s\")\n",
    "\n",
    "\n",
    "# Rappresentazione\n",
    "plt.figure(1)\n",
    "plt.plot(test,tempi,'b-')\n",
    "plt.show()"
   ]
  },
  {
   "cell_type": "markdown",
   "metadata": {},
   "source": [
    "Più il numero di blocchi è basso, più l'algoritmo si avvicina all'operazione standard A @ B quindi l'operazione BLAS3 da noi definita, molto probabilmente sarà ottimale per Nq=(il più piccolo divisore di n), escludendo 1 poichè altrimenti sarebbe uguale a A @ B."
   ]
  }
 ],
 "metadata": {
  "anaconda-cloud": {},
  "kernelspec": {
   "display_name": "ml-venv3.11",
   "language": "python",
   "name": "python3"
  },
  "language_info": {
   "codemirror_mode": {
    "name": "ipython",
    "version": 3
   },
   "file_extension": ".py",
   "mimetype": "text/x-python",
   "name": "python",
   "nbconvert_exporter": "python",
   "pygments_lexer": "ipython3",
   "version": "3.11.3"
  }
 },
 "nbformat": 4,
 "nbformat_minor": 1
}
