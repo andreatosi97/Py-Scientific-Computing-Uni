{
  "cells": [
    {
      "cell_type": "markdown",
      "metadata": {
        "id": "wr3i7s9lB7et"
      },
      "source": [
        "# Esercizio: moltiplicazione matrice-vettore\n",
        "\n",
        "Ispirandoti al kernel `matmul_gpu_shared`, completa il kernel `matvec_gpu_shared` che, dati una matrice $m \\times k$  $A$  e un vettore $v$, calcoli il prodotto $w = Av$ sfruttando la memoria shared. Quali sono i dati che vengono letti più volte dalla global memory e che quindi necessitano di essere caricari in shared?"
      ]
    },
    {
      "cell_type": "markdown",
      "source": [
        "### Import e dati"
      ],
      "metadata": {
        "id": "HDQ2wnb7HI_A"
      }
    },
    {
      "cell_type": "code",
      "execution_count": 1,
      "metadata": {
        "id": "dULG9f9lB7fB"
      },
      "outputs": [],
      "source": [
        "import numpy as np\n",
        "\n",
        "import numba\n",
        "from numba import cuda\n",
        "\n",
        "import math\n",
        "\n",
        "from matplotlib import pyplot as plt"
      ]
    },
    {
      "cell_type": "code",
      "execution_count": 2,
      "metadata": {
        "id": "bISXD-2tB7fF"
      },
      "outputs": [],
      "source": [
        "m = 2**10\n",
        "k = 2**10\n",
        "n = 1\n",
        "\n",
        "A = np.random.randint(10, size = (m,k), dtype = 'int32')\n",
        "v = np.random.randint(10, size = (k,n), dtype = 'int32')"
      ]
    },
    {
      "cell_type": "markdown",
      "source": [
        "### Versione Python"
      ],
      "metadata": {
        "id": "WW1eZwi_HNG5"
      }
    },
    {
      "cell_type": "code",
      "execution_count": 3,
      "metadata": {
        "id": "JuUi5nDrB7fH"
      },
      "outputs": [],
      "source": [
        "# soluzione test\n",
        "w_np = A@v"
      ]
    },
    {
      "cell_type": "code",
      "execution_count": 4,
      "metadata": {
        "id": "ntncdGC9B7fI"
      },
      "outputs": [],
      "source": [
        "def matvec_py(A,v):\n",
        "    if (v.shape[0] != A.shape[1]):\n",
        "        print(\"Errore: le dimensioni delle matrici non sono compatibili!\")\n",
        "        return\n",
        "\n",
        "    w = np.zeros((m,1))\n",
        "\n",
        "    for i in range(A.shape[0]):\n",
        "        tmp = 0\n",
        "        for k in range(A.shape[1]):\n",
        "            tmp = tmp + A[i,k]*v[k,0]\n",
        "        #endfor\n",
        "        w[i,0] = tmp\n",
        "    #endfor\n",
        "\n",
        "    return w"
      ]
    },
    {
      "cell_type": "code",
      "execution_count": 5,
      "metadata": {
        "colab": {
          "base_uri": "https://localhost:8080/"
        },
        "id": "g3aBV7KIB7fJ",
        "outputId": "6edfe73a-c510-45e3-8065-e13090a2661e"
      },
      "outputs": [
        {
          "output_type": "stream",
          "name": "stdout",
          "text": [
            "|| w_np - w_py || = 0.0\n"
          ]
        }
      ],
      "source": [
        "w_py = matvec_py(A,v)\n",
        "\n",
        "print('|| w_np - w_py || =', np.linalg.norm(w_np-w_py))"
      ]
    },
    {
      "cell_type": "markdown",
      "source": [
        "### Versione Kernel"
      ],
      "metadata": {
        "id": "EaOi5qDGHZW4"
      }
    },
    {
      "cell_type": "code",
      "execution_count": 6,
      "metadata": {
        "id": "Suxpy1fUB7fM"
      },
      "outputs": [],
      "source": [
        "@cuda.jit()\n",
        "def matvec_gpu(A,v,w):\n",
        "    i = cuda.grid(1)\n",
        "\n",
        "    if i < A.shape[0]:\n",
        "        tmp = 0\n",
        "        for k in range(A.shape[1]):\n",
        "            tmp += A[i, k] * v[k,0]\n",
        "        #endfor\n",
        "        w[i,0] = tmp\n",
        "    #endif\n",
        "    return"
      ]
    },
    {
      "cell_type": "code",
      "execution_count": 7,
      "metadata": {
        "colab": {
          "base_uri": "https://localhost:8080/"
        },
        "id": "v0GpPpG3B7fO",
        "outputId": "27b852d4-2f0b-4220-ea36-aeb239fe168f"
      },
      "outputs": [
        {
          "output_type": "stream",
          "name": "stderr",
          "text": [
            "/usr/local/lib/python3.10/dist-packages/numba/cuda/dispatcher.py:488: NumbaPerformanceWarning: Grid size 8 will likely result in GPU under-utilization due to low occupancy.\n",
            "  warn(NumbaPerformanceWarning(msg))\n"
          ]
        },
        {
          "output_type": "stream",
          "name": "stdout",
          "text": [
            "|| w_np - w_gpu || = 0.0\n"
          ]
        },
        {
          "output_type": "stream",
          "name": "stderr",
          "text": [
            "/usr/local/lib/python3.10/dist-packages/numba/cuda/cudadrv/devicearray.py:885: NumbaPerformanceWarning: Host array used in CUDA kernel will incur copy overhead to/from device.\n",
            "  warn(NumbaPerformanceWarning(msg))\n"
          ]
        }
      ],
      "source": [
        "w_gpu = np.zeros((m,n), dtype = np.int64)\n",
        "\n",
        "threadsperblock = 128\n",
        "blockspergrid = math.ceil(A.shape[0] / threadsperblock)\n",
        "\n",
        "matvec_gpu[blockspergrid, threadsperblock](A,v,w_gpu)\n",
        "\n",
        "print('|| w_np - w_gpu || =', np.linalg.norm(w_np-w_gpu))"
      ]
    },
    {
      "cell_type": "markdown",
      "source": [
        "### Versione Shared-memory"
      ],
      "metadata": {
        "id": "JVepzAnaH1gY"
      }
    },
    {
      "cell_type": "code",
      "execution_count": 8,
      "metadata": {
        "id": "pgc9f_efB7fP"
      },
      "outputs": [],
      "source": [
        "TPB = 32\n",
        "\n",
        "@cuda.jit()\n",
        "def matvec_gpu_shared(A,v,w):\n",
        "    # Controllo che le matrici A e B siano compatibili per il prodotto\n",
        "    k = A.shape[1]\n",
        "    if (v.shape[0] != k):\n",
        "        return\n",
        "\n",
        "    i = cuda.grid(1)\n",
        "    s_i = cuda.threadIdx.x\n",
        "\n",
        "    A_sh = cuda.shared.array(shape=(TPB,), dtype=numba.int32)\n",
        "    v_sh = cuda.shared.array(shape=(TPB,), dtype=numba.int32)\n",
        "    Ntiles = math.ceil(n/TPB)\n",
        "\n",
        "    if i < A.shape[0]:\n",
        "        tmp = 0\n",
        "        for k in Ntiles:\n",
        "            # Caricamento dati in shared memory\n",
        "            if (s_i + k * TPB < k):\n",
        "                A_sh[s_i] = A[i, s_i + k * TPB]\n",
        "                v_sh[s_i] = v[s_i + k * TPB, 0]\n",
        "            else:\n",
        "                A_sh[s_i] = 0\n",
        "                v_sh[s_i] = 0\n",
        "            #endif\n",
        "            cuda.syncthreads()\n",
        "\n",
        "            tmp += A_sh[s_i] * v_sh[s_i]\n",
        "            cuda.syncthreads()\n",
        "        #endfor\n",
        "        w[i,0] = tmp\n",
        "    #endif\n",
        "    return"
      ]
    },
    {
      "cell_type": "code",
      "execution_count": 9,
      "metadata": {
        "id": "Tv9DcDIYB7fQ"
      },
      "outputs": [],
      "source": [
        "matvec_gpu[blockspergrid, threadsperblock](A,v,w_gpu)"
      ]
    },
    {
      "cell_type": "code",
      "execution_count": 10,
      "metadata": {
        "colab": {
          "base_uri": "https://localhost:8080/"
        },
        "id": "M7NQYXZPB7fQ",
        "outputId": "d3cc73a2-e3f2-40f1-d932-2361eeaa4e0b"
      },
      "outputs": [
        {
          "output_type": "stream",
          "name": "stdout",
          "text": [
            "|| w_np - w_gpu || = 0.0\n"
          ]
        }
      ],
      "source": [
        "print('|| w_np - w_gpu || =', np.linalg.norm(w_np-w_gpu))"
      ]
    }
  ],
  "metadata": {
    "kernelspec": {
      "display_name": "Python 3",
      "name": "python3"
    },
    "language_info": {
      "codemirror_mode": {
        "name": "ipython",
        "version": 3
      },
      "file_extension": ".py",
      "mimetype": "text/x-python",
      "name": "python",
      "nbconvert_exporter": "python",
      "pygments_lexer": "ipython3",
      "version": "3.5.2"
    },
    "colab": {
      "provenance": [],
      "gpuType": "T4"
    },
    "accelerator": "GPU"
  },
  "nbformat": 4,
  "nbformat_minor": 0
}