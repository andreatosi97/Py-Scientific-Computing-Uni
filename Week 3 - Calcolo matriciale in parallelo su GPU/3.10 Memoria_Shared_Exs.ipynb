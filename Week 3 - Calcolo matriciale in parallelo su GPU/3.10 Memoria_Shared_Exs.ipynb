{
  "cells": [
    {
      "cell_type": "markdown",
      "metadata": {
        "id": "0cFR_n5R5Rtz"
      },
      "source": [
        "# Caso studio: l'algoritmo All-Pairs N-Body\n",
        "\n",
        "In questo esercizio guidato applicherai applicheremo il parallelismo ad un esempio tratto dal mondo reale: il problema degli $N$-corpi, o in inglese $N$-body. Questo problema è molto importante nell'ambito della fisica computazionale, infatti la soluzione analitica è nota solo con $N=2$ e in alcuni casi con $N=3$, perciò poter calcolare una soluzione numerica è fondamentale.\n",
        "\n",
        "Dati $N$ corpi con posizioni iniziali $x_i$, massa $m_i$ e velocità $v_i$, $1 \\leq i \\leq N$, definiamo la forza $f_{ij}$ esercitata dal corpo $j$ sul corpo $i$ come\n",
        "$$ f_{ij} = G\\frac{m_im_j r_{ij}}{\\Vert r_{ij} \\Vert^3 }, $$\n",
        "dove $r_{ij} = x_j - x_i$.\n",
        "La forza fotale esercitata sul corpo $i$-esimo è dunque\n",
        "$$ F_i = \\sum_{j \\neq i} f_{ij} = G m_i \\sum_{j \\neq i}  \\frac{m_j r_{ij}}{\\Vert r_{ij} \\Vert^3 }. $$\n",
        "Quando due particelle si avvicinano troppo, la forza $f_{ij}$ che agisce tra di loro va all'infinito. Per impedire problemi numerici, introduciamo un fattore di smorzamento $\\varepsilon>0$\n",
        "$$ F_i \\approx G m_i \\sum_{j}  \\frac{m_j r_{ij}}{(\\Vert r_{ij} \\Vert^2 + \\varepsilon^2)^{3/2} }. $$\n",
        "La condizione $j \\neq i$ non è più necessaria perchè quando $r_{ii} = 0$ il fattore di smorzamento impedisce che il denominatore vada a zero.\n",
        "\n",
        "Per integrare le leggi del moto\n",
        "$$ a(t) = \\frac{dv}{dt}(t) = \\frac{dx^2}{dt^2}(t), \\\\  v(t) = \\frac{dx}{dt}(t), $$\n",
        "abbiamo bisogno dell'accelerazione, che ricaviamo applicando la seconda legge di Newton $a = F/m$. L'accelerazione della particella $i$-esima è quindi data da\n",
        "$$ a_i \\approx G \\sum_{j}  \\frac{m_j r_{ij}}{(\\Vert r_{ij} \\Vert^2 + \\varepsilon^2)^{3/2} }. $$\n",
        "\n",
        "Integrando nel tempo (in questo caso utilizzando prima Eulero Esplicito, poi Eulero Implicito), si ottiene l'evoluzione discreta di posizione e velocità:\n",
        "$$ v_{k+1} = a_k\\cdot dt + v_k, \\\\  x_{k+1} = v_{k+1} \\cdot dt + x_k = a_k\\cdot dt^2 + v_k\\cdot dt + x_k. $$\n",
        "\n",
        "### Scelta dei tipi\n",
        "Nel seguito vedremo l'implementazione nel caso due dimensionale. Scegliamo di vedere il piano $\\mathbb{R}^2$ come il piano complesso $\\mathbb{C}$, percio' la posizione $x$ di un corpo sara' data da $x = (a,b) = a+ib.$\n"
      ]
    },
    {
      "cell_type": "code",
      "execution_count": null,
      "metadata": {
        "id": "QdqBwxeC5Rt-"
      },
      "outputs": [],
      "source": [
        "import numpy as np\n",
        "import time\n",
        "from numba import cuda\n",
        "from numba import float32, complex64, void\n",
        "import math\n",
        "import numba\n",
        "import matplotlib.pyplot as plt\n",
        "import matplotlib.animation as animation"
      ]
    },
    {
      "cell_type": "code",
      "execution_count": null,
      "metadata": {
        "id": "E-44U0035RuD"
      },
      "outputs": [],
      "source": [
        "EPS2 = 0.02"
      ]
    },
    {
      "cell_type": "code",
      "execution_count": null,
      "metadata": {
        "id": "HUVUMpFD5RuE"
      },
      "outputs": [],
      "source": [
        "def accerelation(x_i, x, m):\n",
        "    \"\"\"Accelerazione della particella i-esima\"\"\"\n",
        "\n",
        "    #vettore r_ij\n",
        "    r = x - x_i\n",
        "\n",
        "    distSqrt = np.square(r.real) + np.square(r.imag)\n",
        "\n",
        "    #vettore f_ij\n",
        "    f = m*np.power(  distSqrt + EPS2 , -1.5)\n",
        "\n",
        "    a = np.sum(r*f)\n",
        "\n",
        "    return a\n"
      ]
    },
    {
      "cell_type": "code",
      "execution_count": null,
      "metadata": {
        "id": "itYQcHTf5RuG"
      },
      "outputs": [],
      "source": [
        "def simulate_cpu(x0, v0, m, N, maxit, dt):\n",
        "\n",
        "    x = np.zeros_like(x0)\n",
        "    v = np.zeros_like(v0)\n",
        "\n",
        "    for s in range(maxit):\n",
        "        for i in range(N):\n",
        "            #calcolo l'accererazione\n",
        "            a_i  = accerelation(x0[i], x0, m)\n",
        "            #aggiorno le variabili\n",
        "            v[i] = a_i * dt + v0[i]\n",
        "            x[i] = a_i * dt * dt + v0[i] * dt + x0[i]\n",
        "        #endfor\n",
        "        x0, v0 = x, v\n",
        "    #endfor\n",
        "\n",
        "    return x, v"
      ]
    },
    {
      "cell_type": "code",
      "execution_count": null,
      "metadata": {
        "id": "Kdg84sKq5RuH"
      },
      "outputs": [],
      "source": [
        "N = 32\n",
        "x0 = np.random.rand(N).astype(np.float32)+1j*np.random.rand(N).astype(np.float32)\n",
        "v0 = np.zeros((N,), dtype=np.complex64)\n",
        "m  = np.ones(N, dtype=np.float32)"
      ]
    },
    {
      "cell_type": "code",
      "execution_count": null,
      "metadata": {
        "id": "1OzBvVuy5RuH"
      },
      "outputs": [],
      "source": [
        "start = time.time()\n",
        "xs, vs = simulate_cpu(x0, v0, m, N, 1, 1e-3)\n",
        "stop = time.time()"
      ]
    },
    {
      "cell_type": "code",
      "execution_count": null,
      "metadata": {
        "id": "j-elydvP5RuJ"
      },
      "outputs": [],
      "source": [
        "def plot_Nbody(x,v):\n",
        "    fig, ax = plt.subplots()\n",
        "    ax.quiver(x.real,x.imag,v.real,v.imag)\n",
        "    plt.scatter(x.real,x.imag, c='r', marker ='o')\n",
        "    return"
      ]
    },
    {
      "cell_type": "code",
      "execution_count": null,
      "metadata": {
        "id": "ZfUgBeAH5RuK",
        "outputId": "d867a037-fd35-44a9-9d69-d4786bb6159e"
      },
      "outputs": [
        {
          "data": {
            "image/png": "[encoded data removed]",
            "text/plain": [
              "<Figure size 432x288 with 1 Axes>"
            ]
          },
          "metadata": {},
          "output_type": "display_data"
        }
      ],
      "source": [
        "plot_Nbody(xs,vs)"
      ]
    },
    {
      "cell_type": "markdown",
      "metadata": {
        "id": "Mt5NzNHy5RuM"
      },
      "source": [
        "# Implementiamo All-Pairs N-Body con CUDA Python\n",
        "\n",
        "L'dea generale dell'algoritmo *all-pairs* è che ogni particella venga assegnata ad un thread, che ne calcola l'accerelazione. Il thread $i$-esimo deve quindi calcolare la somma di tutte le interazioni $f_{ij}$ tra la particella $i$ e tutte le altre particelle $j$ con $1 \\leq j \\leq N$.\n",
        "Il kernel così definito è 1D. I threads sono suddivisi in blocchi composti da $p$ threads. Per calcolare $f_{ij}$, il thread $i$ ha bisogno dei dati $m_j$, $x_j$, perciò **ogni dato viene letto esattamente $N$ volte**, una per thread.\n",
        "\n",
        "Per diminuire le letture dalla global memory e ottimizzare il riutilizzo dei dati, utilizziamo la shared memory. Come abbiamo visto, la shared memory è condivisa tra i threads di uno stesso blocco. Assegnamo $p$ thread ad ogni blocco, cosi' da avere in totale $\\lceil N/p \\rceil$ blocchi.\n",
        "\n",
        "Ogni blocco di threads ha risorse limitate in shared memory, percio' non possiamo caricare i dati relativi ai corpi (le masse `m` e le posizioni `x`) tutte in una volta. I dati dei corpi vengono quindi caricati in shared in gruppi di $p$ corpi alla volta. Dopodiche', e' necessario sincronizzare i threads per assicurarsi che tutti i dati siano stati caricati. Il thread $i$ calcola in maniera seriale le interazioni `f_ij` tra il corpo assegnatogli e i corpi caricati, e accumula i risultati in una somma parziale (la variabile `a_i` in memoria locale). Il processo viene poi ripetuto con i successivi $p$ corpi, e una volta terminati i corpi scrive il risultato nella memoria global.\n",
        "\n",
        "![](http://media2mult.uos.de/pmwiki/fields/gpu09/m2m.d/N-Body-Simulation.SimulationWithCUDA/media/image/algorithm.png)\n",
        "\n",
        "Questa tecnica prende il come di **tiling**, dall'inglese *tile* (\"piastrella\"), verra' approfondita nella prossima lezione.\n"
      ]
    },
    {
      "cell_type": "code",
      "execution_count": null,
      "metadata": {
        "id": "BrXFU2qX5RuN"
      },
      "outputs": [],
      "source": [
        "p = 32 #multiple of 32\n",
        "threadsperblock = p\n",
        "\n",
        "@cuda.jit('complex64(complex64, complex64, float32, complex64)',device = True)\n",
        "def interaction(x_i, x_j, m, a):\n",
        "    \"\"\"iterazione f_ij tra le particelle i e j\"\"\"\n",
        "\n",
        "    r_ij = x_j - x_i\n",
        "\n",
        "    distSqrt = r_ij.real**2 + r_ij.imag**2\n",
        "\n",
        "    f_ij = m*math.pow( distSqrt + EPS2, -1.5)\n",
        "\n",
        "    a_new = a + r_ij * f_ij\n",
        "\n",
        "    return a_new\n",
        "\n",
        "@cuda.jit('void(complex64[:], float32[:], complex64[:])')\n",
        "def acceleration_kernel(x, m, a):\n",
        "    \"\"\"Kernel che calcola le accelerazioni delle particelle\"\"\"\n",
        "    i   = cuda.grid(1)\n",
        "    s_i = cuda.threadIdx.x\n",
        "    x_i = x[i]\n",
        "\n",
        "\n",
        "    x_sh = cuda.shared.array(shape=(p), dtype = complex64)\n",
        "    m_sh = cuda.shared.array(shape=(p), dtype = float32)\n",
        "\n",
        "    iter = 0\n",
        "    a_i  = complex64(0.0 +1j*0.0)\n",
        "    N = x.shape[0]\n",
        "\n",
        "    if (i < N):\n",
        "\n",
        "        for k in range(0, N, p):\n",
        "            idx = iter*p + s_i\n",
        "\n",
        "            if (idx>=N): break\n",
        "            #carico in shared p corpi\n",
        "            x_sh[s_i] = x[idx]\n",
        "            m_sh[s_i] = m[idx]\n",
        "\n",
        "            cuda.syncthreads()\n",
        "\n",
        "            #calcolo sequenziale delle iterazioni\n",
        "            for j in range(0,p):\n",
        "                a_i = interaction(x_i, x_sh[j], m_sh[j], a_i)\n",
        "            #endfor\n",
        "            cuda.syncthreads()\n",
        "            iter = iter + 1\n",
        "        #endfor\n",
        "        a[i] = a_i\n",
        "    #endif\n",
        "    return"
      ]
    },
    {
      "cell_type": "code",
      "execution_count": null,
      "metadata": {
        "id": "wFsOYY1S5RuO"
      },
      "outputs": [],
      "source": [
        "@cuda.jit\n",
        "def update_variables(a, x, v, dt, x_new, v_new):\n",
        "    i = cuda.grid(1)\n",
        "\n",
        "    if (i < a.shape[0]):\n",
        "        v_new[i] = a[i]*dt     + v[i]\n",
        "        x_new[i] = v_new[i]*dt + x[i]\n",
        "    #endif\n",
        "    return\n",
        "\n",
        "\n",
        "def simulate_gpu(x0, v0, m, N, maxit, dt):\n",
        "    blockspergrid = math.ceil(N/threadsperblock)\n",
        "\n",
        "    d_x0 = numba.cuda.to_device(x0)\n",
        "    d_v0 = numba.cuda.to_device(v0)\n",
        "    d_m  = numba.cuda.to_device(m)\n",
        "    d_x  = numba.cuda.device_array_like(x0)\n",
        "    d_v  = numba.cuda.device_array_like(v0)\n",
        "    d_a  = numba.cuda.device_array_like(x0)\n",
        "\n",
        "\n",
        "    for s in range(maxit):\n",
        "        #calcolo l'accelerazione\n",
        "        acceleration_kernel[blockspergrid, threadsperblock](d_x0, d_m, d_a)\n",
        "        #aggiorno le variabili\n",
        "        update_variables[blockspergrid, threadsperblock](d_a, d_x0, d_v0, dt, d_x, d_v)\n",
        "        d_x0.copy_to_device(d_x)\n",
        "        d_v0.copy_to_device(d_v)\n",
        "    #endfor\n",
        "\n",
        "    return d_x.copy_to_host(), d_v.copy_to_host()"
      ]
    },
    {
      "cell_type": "code",
      "execution_count": null,
      "metadata": {
        "id": "Sy1bX6gG5RuP"
      },
      "outputs": [],
      "source": [
        "x, v = simulate_gpu(x0, v0, m, N, 1, 1e-3)"
      ]
    },
    {
      "cell_type": "code",
      "execution_count": null,
      "metadata": {
        "id": "rs1G0GNT5RuP",
        "outputId": "7b70cb68-0726-4609-b017-9c118a9861d5"
      },
      "outputs": [
        {
          "data": {
            "image/png": "[encoded data removed]",
            "text/plain": [
              "<Figure size 432x288 with 1 Axes>"
            ]
          },
          "metadata": {},
          "output_type": "display_data"
        }
      ],
      "source": [
        "plot_Nbody(x,v)"
      ]
    },
    {
      "cell_type": "code",
      "execution_count": null,
      "metadata": {
        "id": "ZHO95ksX5RuQ",
        "outputId": "21b7f414-2578-4bd5-ccb9-c0ab183532d8"
      },
      "outputs": [
        {
          "data": {
            "image/png": "[encoded data removed]",
            "text/plain": [
              "<Figure size 432x288 with 1 Axes>"
            ]
          },
          "metadata": {},
          "output_type": "display_data"
        }
      ],
      "source": [
        "plot_Nbody(xs,vs)"
      ]
    },
    {
      "cell_type": "markdown",
      "metadata": {
        "id": "YblZ6_du5RuQ"
      },
      "source": [
        "# Confronto\n",
        "\n",
        "Per confrontare le due implementazioni, calcoliamo i tempi di esecutione per le simulazioni con $100$ passi temporali al variare del numero di particelle $N$."
      ]
    },
    {
      "cell_type": "code",
      "execution_count": null,
      "metadata": {
        "id": "hYKd3YWc5RuR"
      },
      "outputs": [],
      "source": [
        "iters = 100\n",
        "\n",
        "num_particles = [32, 64, 128, 256, 512, 1024]\n",
        "cpu_time = np.zeros(len(num_particles))\n",
        "gpu_time = np.zeros(len(num_particles))\n",
        "\n",
        "for i, N in enumerate(num_particles):\n",
        "    x0 = np.random.rand(N).astype(np.float32)+1j*np.random.rand(N).astype(np.float32)\n",
        "    v0 = np.zeros((N,), dtype=np.complex64)\n",
        "    m  = np.ones(N, dtype=np.float32)\n",
        "\n",
        "    start = time.time()\n",
        "    x, v = simulate_cpu(x0, v0, m, N, iters, 1e-3)\n",
        "    end = time.time()\n",
        "    cpu_time[i] = end-start\n",
        "\n",
        "    #x0 = np.array(x0[:,0]+1j*x0[:,1], dtype = np.complex64)\n",
        "    #v0 = np.zeros((N,), dtype=np.complex64)\n",
        "\n",
        "    start = time.time()\n",
        "    x, v = simulate_gpu(x0, v0, m, N, iters, 1e-3)\n",
        "    end = time.time()\n",
        "    gpu_time[i] = end-start\n",
        "\n",
        "#end"
      ]
    },
    {
      "cell_type": "code",
      "execution_count": null,
      "metadata": {
        "id": "0oUhxceP5RuR",
        "outputId": "828d97ad-41a5-4599-ae2a-b2162bbd12aa"
      },
      "outputs": [
        {
          "data": {
            "image/png": "[encoded data removed]",
            "text/plain": [
              "<Figure size 432x288 with 1 Axes>"
            ]
          },
          "metadata": {},
          "output_type": "display_data"
        },
        {
          "name": "stdout",
          "output_type": "stream",
          "text": [
            "Speed-up: 40.77416362343854\n"
          ]
        }
      ],
      "source": [
        "plt.figure()\n",
        "plt.plot(num_particles, cpu_time)\n",
        "plt.plot(num_particles, gpu_time)\n",
        "plt.legend(['CPU', 'GPU'])\n",
        "plt.xlabel('N')\n",
        "plt.ylabel('Secondi')\n",
        "plt.show()\n",
        "print('Speed-up:', cpu_time[5]/gpu_time[5])"
      ]
    },
    {
      "cell_type": "markdown",
      "metadata": {
        "id": "g2kBTiNU5RuS"
      },
      "source": [
        "Per $1024$ particelle le simulazioni in CUDA Python sono molto più veloci rispetto al classico Python, nonostante stiamo calcolando anche i tempi di trasferimento in memoria tra host e device.\n",
        "\n",
        "Calcoliamo ora i tempi di esecuzione delle simulazioni in CUDA Python al variare della taglia del blocchi `p`."
      ]
    },
    {
      "cell_type": "code",
      "execution_count": null,
      "metadata": {
        "id": "wBfve-Dt5RuS"
      },
      "outputs": [],
      "source": [
        "bs = [16, 32, 64]\n",
        "num_particles = [32, 64, 128, 256, 512, 1024]\n",
        "\n",
        "gpu_time_bs = np.zeros((len(num_particles),len(bs)))\n",
        "\n",
        "for i, N in enumerate(num_particles):\n",
        "    x0 = np.random.rand(N).astype(np.float32)+1j*np.random.rand(N).astype(np.float32)\n",
        "    v0 = np.zeros((N,), dtype=np.complex64)\n",
        "    m  = np.ones(N, dtype=np.float32)\n",
        "    for j, k in enumerate(bs):\n",
        "        p = k #multiple of 32\n",
        "        threadsperblock = p\n",
        "\n",
        "        start = time.time()\n",
        "        x, v = simulate_gpu(x0, v0, m, N, iters, 1e-3)\n",
        "        end = time.time()\n",
        "        gpu_time_bs[i,j] = end-start\n",
        "    #end\n",
        "#end"
      ]
    },
    {
      "cell_type": "code",
      "execution_count": null,
      "metadata": {
        "id": "-XEUJjOs5RuS",
        "outputId": "b0fa5a71-ba18-4826-95ee-4cff10e926db"
      },
      "outputs": [
        {
          "data": {
            "image/png": "[encoded data removed]",
            "text/plain": [
              "<Figure size 432x288 with 1 Axes>"
            ]
          },
          "metadata": {},
          "output_type": "display_data"
        }
      ],
      "source": [
        "plt.figure()\n",
        "plt.plot(num_particles, gpu_time_bs[:,0], 'x')\n",
        "plt.plot(num_particles, gpu_time_bs[:,1], '*')\n",
        "plt.plot(num_particles, gpu_time_bs[:,2], '+')\n",
        "plt.legend(['16', '32', '64'])\n",
        "plt.xlabel('N')\n",
        "plt.ylabel('Secondi')\n",
        "plt.show()"
      ]
    },
    {
      "cell_type": "markdown",
      "metadata": {
        "id": "EWGIzIhb5RuT"
      },
      "source": [
        "Per $N \\leq 512$ le performance sembrano equivalenti, mentre con $N=1024$ vediamo che scegliere `p` più piccolo della warpsize ($=32$) comporta un netto peggioramento delle performance!\n",
        "\n",
        "\n",
        "NB: Quest'esempio è tratto dall'articolo *Fast N-Body Simulation with CUDA* di Nyland, Harris e Prins. Le immagini e l'analisi dei tempi di esecuzione sono tratte da  http://media2mult.uos.de/pmwiki/fields/gpu09/index.php?n=N-Body-Simulation.SimulationWithCUDA.\n"
      ]
    }
  ],
  "metadata": {
    "kernelspec": {
      "display_name": "Python 3",
      "language": "python",
      "name": "python3"
    },
    "language_info": {
      "codemirror_mode": {
        "name": "ipython",
        "version": 3
      },
      "file_extension": ".py",
      "mimetype": "text/x-python",
      "name": "python",
      "nbconvert_exporter": "python",
      "pygments_lexer": "ipython3",
      "version": "3.5.2"
    },
    "colab": {
      "provenance": []
    }
  },
  "nbformat": 4,
  "nbformat_minor": 0
}