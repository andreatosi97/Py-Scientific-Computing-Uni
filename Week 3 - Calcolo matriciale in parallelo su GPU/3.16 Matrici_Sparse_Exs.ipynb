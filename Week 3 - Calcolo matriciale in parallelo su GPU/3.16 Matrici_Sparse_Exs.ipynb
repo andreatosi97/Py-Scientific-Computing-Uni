{
 "cells": [
  {
   "cell_type": "code",
   "execution_count": 35,
   "metadata": {},
   "outputs": [],
   "source": [
    "import numpy as np\n",
    "import matplotlib.pyplot as plt\n",
    "import scipy.sparse as sparse\n",
    "import matplotlib.pyplot as plt\n",
    "from scipy.sparse import random"
   ]
  },
  {
   "cell_type": "markdown",
   "metadata": {},
   "source": [
    "# Esercizi\n",
    "\n",
    "1. Implemeta una funzione `full2csr(A)` che, data una matrice densa $A$, ritorna la sua rappresentazione in formato CSR `(data, indices, indptr)`.\n",
    "2. Implemeta una funzione `csr2full(data, indices, indptr)` che, data una matrice sparsa in formato CSR, ritorna la stessa matrice in formato denso. NB: Il formato CSR non determina in maniera univoca il numero di colonne della matrice, è prassi scegliere il numero di colonne più piccolo (i.e. `max(indices)`) per cui la matrice densa è ben definita."
   ]
  },
  {
   "cell_type": "markdown",
   "metadata": {},
   "source": [
    "### 1."
   ]
  },
  {
   "cell_type": "code",
   "execution_count": 36,
   "metadata": {},
   "outputs": [],
   "source": [
    "def full2csr(A):    \n",
    "    mat_csr = sparse.csr_matrix(A)\n",
    "    return mat_csr.data , mat_csr.indices , mat_csr.indptr"
   ]
  },
  {
   "cell_type": "markdown",
   "metadata": {},
   "source": [
    "### 2."
   ]
  },
  {
   "cell_type": "code",
   "execution_count": 37,
   "metadata": {},
   "outputs": [],
   "source": [
    "def csr2full(data, indices, indptr):\n",
    "    maxindex = max(indices); \n",
    "    A = np.zeros((maxindex+1,maxindex+1))\n",
    "\n",
    "    for row in range(maxindex+1):\n",
    "        A[row,indices[indptr[row]:indptr[row+1]]] = data[indptr[row]:indptr[row+1]]\n",
    "\n",
    "    return A\n"
   ]
  },
  {
   "cell_type": "code",
   "execution_count": 38,
   "metadata": {},
   "outputs": [
    {
     "name": "stdout",
     "output_type": "stream",
     "text": [
      "0.0\n"
     ]
    }
   ],
   "source": [
    "# Test\n",
    "mat = random(10,10, density=0.25)\n",
    "\n",
    "data, indices, indptr = full2csr(mat)\n",
    "\n",
    "print(np.linalg.norm(csr2full(data, indices, indptr) - mat))"
   ]
  }
 ],
 "metadata": {
  "kernelspec": {
   "display_name": "Python 3",
   "language": "python",
   "name": "python3"
  },
  "language_info": {
   "codemirror_mode": {
    "name": "ipython",
    "version": 3
   },
   "file_extension": ".py",
   "mimetype": "text/x-python",
   "name": "python",
   "nbconvert_exporter": "python",
   "pygments_lexer": "ipython3",
   "version": "3.11.3"
  }
 },
 "nbformat": 4,
 "nbformat_minor": 2
}
